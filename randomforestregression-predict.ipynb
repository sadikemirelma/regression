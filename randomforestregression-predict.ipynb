{
 "cells": [
  {
   "cell_type": "code",
   "execution_count": 1,
   "id": "a542e067",
   "metadata": {
    "_cell_guid": "b1076dfc-b9ad-4769-8c92-a6c4dae69d19",
    "_uuid": "8f2839f25d086af736a60e9eeb907d3b93b6e0e5",
    "execution": {
     "iopub.execute_input": "2025-04-18T10:23:10.045656Z",
     "iopub.status.busy": "2025-04-18T10:23:10.044689Z",
     "iopub.status.idle": "2025-04-18T10:23:13.257620Z",
     "shell.execute_reply": "2025-04-18T10:23:13.256521Z"
    },
    "papermill": {
     "duration": 3.220402,
     "end_time": "2025-04-18T10:23:13.259646",
     "exception": false,
     "start_time": "2025-04-18T10:23:10.039244",
     "status": "completed"
    },
    "tags": []
   },
   "outputs": [
    {
     "name": "stdout",
     "output_type": "stream",
     "text": [
      "/kaggle/input/insurance/insurance.csv\n"
     ]
    }
   ],
   "source": [
    "# This Python 3 environment comes with many helpful analytics libraries installed\n",
    "# It is defined by the kaggle/python Docker image: https://github.com/kaggle/docker-python\n",
    "# For example, here's several helpful packages to load\n",
    "\n",
    "import numpy as np # linear algebra\n",
    "import pandas as pd # data processing, CSV file I/O (e.g. pd.read_csv)\n",
    "from sklearn.linear_model import LinearRegression\n",
    "from sklearn.ensemble import RandomForestRegressor\n",
    "from sklearn.model_selection import train_test_split\n",
    "\n",
    "\n",
    "# Input data files are available in the read-only \"../input/\" directory\n",
    "# For example, running this (by clicking run or pressing Shift+Enter) will list all files under the input directory\n",
    "\n",
    "import os\n",
    "for dirname, _, filenames in os.walk('/kaggle/input'):\n",
    "    for filename in filenames:\n",
    "        print(os.path.join(dirname, filename))\n",
    "\n",
    "# You can write up to 20GB to the current directory (/kaggle/working/) that gets preserved as output when you create a version using \"Save & Run All\" \n",
    "# You can also write temporary files to /kaggle/temp/, but they won't be saved outside of the current session"
   ]
  },
  {
   "cell_type": "code",
   "execution_count": 2,
   "id": "f7f4bb40",
   "metadata": {
    "execution": {
     "iopub.execute_input": "2025-04-18T10:23:13.267902Z",
     "iopub.status.busy": "2025-04-18T10:23:13.267208Z",
     "iopub.status.idle": "2025-04-18T10:23:13.287456Z",
     "shell.execute_reply": "2025-04-18T10:23:13.286238Z"
    },
    "papermill": {
     "duration": 0.026433,
     "end_time": "2025-04-18T10:23:13.289483",
     "exception": false,
     "start_time": "2025-04-18T10:23:13.263050",
     "status": "completed"
    },
    "tags": []
   },
   "outputs": [],
   "source": [
    "df=pd.read_csv(\"/kaggle/input/insurance/insurance.csv\")"
   ]
  },
  {
   "cell_type": "code",
   "execution_count": 3,
   "id": "16cedbaa",
   "metadata": {
    "execution": {
     "iopub.execute_input": "2025-04-18T10:23:13.297017Z",
     "iopub.status.busy": "2025-04-18T10:23:13.296662Z",
     "iopub.status.idle": "2025-04-18T10:23:13.326636Z",
     "shell.execute_reply": "2025-04-18T10:23:13.325393Z"
    },
    "papermill": {
     "duration": 0.035885,
     "end_time": "2025-04-18T10:23:13.328604",
     "exception": false,
     "start_time": "2025-04-18T10:23:13.292719",
     "status": "completed"
    },
    "tags": []
   },
   "outputs": [
    {
     "data": {
      "text/html": [
       "<div>\n",
       "<style scoped>\n",
       "    .dataframe tbody tr th:only-of-type {\n",
       "        vertical-align: middle;\n",
       "    }\n",
       "\n",
       "    .dataframe tbody tr th {\n",
       "        vertical-align: top;\n",
       "    }\n",
       "\n",
       "    .dataframe thead th {\n",
       "        text-align: right;\n",
       "    }\n",
       "</style>\n",
       "<table border=\"1\" class=\"dataframe\">\n",
       "  <thead>\n",
       "    <tr style=\"text-align: right;\">\n",
       "      <th></th>\n",
       "      <th>age</th>\n",
       "      <th>sex</th>\n",
       "      <th>bmi</th>\n",
       "      <th>children</th>\n",
       "      <th>smoker</th>\n",
       "      <th>region</th>\n",
       "      <th>charges</th>\n",
       "    </tr>\n",
       "  </thead>\n",
       "  <tbody>\n",
       "    <tr>\n",
       "      <th>0</th>\n",
       "      <td>19</td>\n",
       "      <td>female</td>\n",
       "      <td>27.90</td>\n",
       "      <td>0</td>\n",
       "      <td>yes</td>\n",
       "      <td>southwest</td>\n",
       "      <td>16884.9240</td>\n",
       "    </tr>\n",
       "    <tr>\n",
       "      <th>1</th>\n",
       "      <td>18</td>\n",
       "      <td>male</td>\n",
       "      <td>33.77</td>\n",
       "      <td>1</td>\n",
       "      <td>no</td>\n",
       "      <td>southeast</td>\n",
       "      <td>1725.5523</td>\n",
       "    </tr>\n",
       "    <tr>\n",
       "      <th>2</th>\n",
       "      <td>28</td>\n",
       "      <td>male</td>\n",
       "      <td>33.00</td>\n",
       "      <td>3</td>\n",
       "      <td>no</td>\n",
       "      <td>southeast</td>\n",
       "      <td>4449.4620</td>\n",
       "    </tr>\n",
       "  </tbody>\n",
       "</table>\n",
       "</div>"
      ],
      "text/plain": [
       "   age     sex    bmi  children smoker     region     charges\n",
       "0   19  female  27.90         0    yes  southwest  16884.9240\n",
       "1   18    male  33.77         1     no  southeast   1725.5523\n",
       "2   28    male  33.00         3     no  southeast   4449.4620"
      ]
     },
     "execution_count": 3,
     "metadata": {},
     "output_type": "execute_result"
    }
   ],
   "source": [
    "df.head(3)"
   ]
  },
  {
   "cell_type": "code",
   "execution_count": 4,
   "id": "3c18a176",
   "metadata": {
    "execution": {
     "iopub.execute_input": "2025-04-18T10:23:13.337014Z",
     "iopub.status.busy": "2025-04-18T10:23:13.336514Z",
     "iopub.status.idle": "2025-04-18T10:23:13.373271Z",
     "shell.execute_reply": "2025-04-18T10:23:13.372003Z"
    },
    "papermill": {
     "duration": 0.043036,
     "end_time": "2025-04-18T10:23:13.375233",
     "exception": false,
     "start_time": "2025-04-18T10:23:13.332197",
     "status": "completed"
    },
    "tags": []
   },
   "outputs": [
    {
     "data": {
      "text/html": [
       "<div>\n",
       "<style scoped>\n",
       "    .dataframe tbody tr th:only-of-type {\n",
       "        vertical-align: middle;\n",
       "    }\n",
       "\n",
       "    .dataframe tbody tr th {\n",
       "        vertical-align: top;\n",
       "    }\n",
       "\n",
       "    .dataframe thead th {\n",
       "        text-align: right;\n",
       "    }\n",
       "</style>\n",
       "<table border=\"1\" class=\"dataframe\">\n",
       "  <thead>\n",
       "    <tr style=\"text-align: right;\">\n",
       "      <th></th>\n",
       "      <th>age</th>\n",
       "      <th>bmi</th>\n",
       "      <th>children</th>\n",
       "      <th>charges</th>\n",
       "      <th>sex_male</th>\n",
       "      <th>smoker_yes</th>\n",
       "      <th>region_northwest</th>\n",
       "      <th>region_southeast</th>\n",
       "      <th>region_southwest</th>\n",
       "    </tr>\n",
       "  </thead>\n",
       "  <tbody>\n",
       "    <tr>\n",
       "      <th>0</th>\n",
       "      <td>19</td>\n",
       "      <td>27.90</td>\n",
       "      <td>0</td>\n",
       "      <td>16884.9240</td>\n",
       "      <td>False</td>\n",
       "      <td>True</td>\n",
       "      <td>False</td>\n",
       "      <td>False</td>\n",
       "      <td>True</td>\n",
       "    </tr>\n",
       "    <tr>\n",
       "      <th>1</th>\n",
       "      <td>18</td>\n",
       "      <td>33.77</td>\n",
       "      <td>1</td>\n",
       "      <td>1725.5523</td>\n",
       "      <td>True</td>\n",
       "      <td>False</td>\n",
       "      <td>False</td>\n",
       "      <td>True</td>\n",
       "      <td>False</td>\n",
       "    </tr>\n",
       "    <tr>\n",
       "      <th>2</th>\n",
       "      <td>28</td>\n",
       "      <td>33.00</td>\n",
       "      <td>3</td>\n",
       "      <td>4449.4620</td>\n",
       "      <td>True</td>\n",
       "      <td>False</td>\n",
       "      <td>False</td>\n",
       "      <td>True</td>\n",
       "      <td>False</td>\n",
       "    </tr>\n",
       "  </tbody>\n",
       "</table>\n",
       "</div>"
      ],
      "text/plain": [
       "   age    bmi  children     charges  sex_male  smoker_yes  region_northwest  \\\n",
       "0   19  27.90         0  16884.9240     False        True             False   \n",
       "1   18  33.77         1   1725.5523      True       False             False   \n",
       "2   28  33.00         3   4449.4620      True       False             False   \n",
       "\n",
       "   region_southeast  region_southwest  \n",
       "0             False              True  \n",
       "1              True             False  \n",
       "2              True             False  "
      ]
     },
     "execution_count": 4,
     "metadata": {},
     "output_type": "execute_result"
    }
   ],
   "source": [
    "df=pd.get_dummies(df,columns=[\"sex\",\"smoker\", \"region\"],drop_first=True)\n",
    "df.head(3)"
   ]
  },
  {
   "cell_type": "code",
   "execution_count": 5,
   "id": "1edd9e8c",
   "metadata": {
    "execution": {
     "iopub.execute_input": "2025-04-18T10:23:13.384170Z",
     "iopub.status.busy": "2025-04-18T10:23:13.383640Z",
     "iopub.status.idle": "2025-04-18T10:23:13.391191Z",
     "shell.execute_reply": "2025-04-18T10:23:13.389729Z"
    },
    "papermill": {
     "duration": 0.014241,
     "end_time": "2025-04-18T10:23:13.393377",
     "exception": false,
     "start_time": "2025-04-18T10:23:13.379136",
     "status": "completed"
    },
    "tags": []
   },
   "outputs": [],
   "source": [
    "y=df[\"charges\"]\n",
    "x=df.drop(columns=[\"charges\"])"
   ]
  },
  {
   "cell_type": "code",
   "execution_count": 6,
   "id": "c6d3c05b",
   "metadata": {
    "execution": {
     "iopub.execute_input": "2025-04-18T10:23:13.402214Z",
     "iopub.status.busy": "2025-04-18T10:23:13.401821Z",
     "iopub.status.idle": "2025-04-18T10:23:13.410262Z",
     "shell.execute_reply": "2025-04-18T10:23:13.409076Z"
    },
    "papermill": {
     "duration": 0.015464,
     "end_time": "2025-04-18T10:23:13.412670",
     "exception": false,
     "start_time": "2025-04-18T10:23:13.397206",
     "status": "completed"
    },
    "tags": []
   },
   "outputs": [],
   "source": [
    "x_train,x_test,y_train,y_test=train_test_split(x,y,random_state=24,train_size=0.80)"
   ]
  },
  {
   "cell_type": "code",
   "execution_count": 7,
   "id": "47ada976",
   "metadata": {
    "execution": {
     "iopub.execute_input": "2025-04-18T10:23:13.426740Z",
     "iopub.status.busy": "2025-04-18T10:23:13.426293Z",
     "iopub.status.idle": "2025-04-18T10:23:13.494223Z",
     "shell.execute_reply": "2025-04-18T10:23:13.492814Z"
    },
    "papermill": {
     "duration": 0.077056,
     "end_time": "2025-04-18T10:23:13.496236",
     "exception": false,
     "start_time": "2025-04-18T10:23:13.419180",
     "status": "completed"
    },
    "tags": []
   },
   "outputs": [
    {
     "data": {
      "text/plain": [
       "0.7765075980622729"
      ]
     },
     "execution_count": 7,
     "metadata": {},
     "output_type": "execute_result"
    }
   ],
   "source": [
    "lr=LinearRegression()\n",
    "model=lr.fit(x_train,y_train)\n",
    "model.score(x_test,y_test)"
   ]
  },
  {
   "cell_type": "code",
   "execution_count": 8,
   "id": "c81a4f23",
   "metadata": {
    "execution": {
     "iopub.execute_input": "2025-04-18T10:23:13.505120Z",
     "iopub.status.busy": "2025-04-18T10:23:13.504569Z",
     "iopub.status.idle": "2025-04-18T10:23:14.308212Z",
     "shell.execute_reply": "2025-04-18T10:23:14.306627Z"
    },
    "papermill": {
     "duration": 0.81055,
     "end_time": "2025-04-18T10:23:14.310467",
     "exception": false,
     "start_time": "2025-04-18T10:23:13.499917",
     "status": "completed"
    },
    "tags": []
   },
   "outputs": [
    {
     "data": {
      "text/plain": [
       "0.8653764542482306"
      ]
     },
     "execution_count": 8,
     "metadata": {},
     "output_type": "execute_result"
    }
   ],
   "source": [
    "rf=RandomForestRegressor(n_estimators=200)\n",
    "model=rf.fit(x_train,y_train)\n",
    "model.score(x_test,y_test)"
   ]
  },
  {
   "cell_type": "code",
   "execution_count": 9,
   "id": "ffa27ac4",
   "metadata": {
    "execution": {
     "iopub.execute_input": "2025-04-18T10:23:14.320095Z",
     "iopub.status.busy": "2025-04-18T10:23:14.319619Z",
     "iopub.status.idle": "2025-04-18T10:23:14.326372Z",
     "shell.execute_reply": "2025-04-18T10:23:14.325237Z"
    },
    "papermill": {
     "duration": 0.01364,
     "end_time": "2025-04-18T10:23:14.328186",
     "exception": false,
     "start_time": "2025-04-18T10:23:14.314546",
     "status": "completed"
    },
    "tags": []
   },
   "outputs": [],
   "source": [
    "human=df.sample().drop(columns=[\"charges\"]).values"
   ]
  },
  {
   "cell_type": "code",
   "execution_count": 10,
   "id": "70783560",
   "metadata": {
    "execution": {
     "iopub.execute_input": "2025-04-18T10:23:14.338345Z",
     "iopub.status.busy": "2025-04-18T10:23:14.337997Z",
     "iopub.status.idle": "2025-04-18T10:23:14.355890Z",
     "shell.execute_reply": "2025-04-18T10:23:14.354566Z"
    },
    "papermill": {
     "duration": 0.025838,
     "end_time": "2025-04-18T10:23:14.357863",
     "exception": false,
     "start_time": "2025-04-18T10:23:14.332025",
     "status": "completed"
    },
    "tags": []
   },
   "outputs": [
    {
     "name": "stderr",
     "output_type": "stream",
     "text": [
      "/usr/local/lib/python3.10/dist-packages/sklearn/base.py:439: UserWarning: X does not have valid feature names, but RandomForestRegressor was fitted with feature names\n",
      "  warnings.warn(\n"
     ]
    },
    {
     "data": {
      "text/plain": [
       "array([11976.35972135])"
      ]
     },
     "execution_count": 10,
     "metadata": {},
     "output_type": "execute_result"
    }
   ],
   "source": [
    "model.predict(human)"
   ]
  }
 ],
 "metadata": {
  "kaggle": {
   "accelerator": "none",
   "dataSources": [
    {
     "datasetId": 13720,
     "sourceId": 18513,
     "sourceType": "datasetVersion"
    }
   ],
   "dockerImageVersionId": 30918,
   "isGpuEnabled": false,
   "isInternetEnabled": false,
   "language": "python",
   "sourceType": "notebook"
  },
  "kernelspec": {
   "display_name": "Python 3",
   "language": "python",
   "name": "python3"
  },
  "language_info": {
   "codemirror_mode": {
    "name": "ipython",
    "version": 3
   },
   "file_extension": ".py",
   "mimetype": "text/x-python",
   "name": "python",
   "nbconvert_exporter": "python",
   "pygments_lexer": "ipython3",
   "version": "3.10.12"
  },
  "papermill": {
   "default_parameters": {},
   "duration": 8.665989,
   "end_time": "2025-04-18T10:23:15.083101",
   "environment_variables": {},
   "exception": null,
   "input_path": "__notebook__.ipynb",
   "output_path": "__notebook__.ipynb",
   "parameters": {},
   "start_time": "2025-04-18T10:23:06.417112",
   "version": "2.6.0"
  }
 },
 "nbformat": 4,
 "nbformat_minor": 5
}
