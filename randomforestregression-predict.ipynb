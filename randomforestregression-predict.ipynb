{
 "cells": [
  {
   "cell_type": "code",
   "execution_count": 1,
   "id": "0709b104",
   "metadata": {
    "_cell_guid": "b1076dfc-b9ad-4769-8c92-a6c4dae69d19",
    "_uuid": "8f2839f25d086af736a60e9eeb907d3b93b6e0e5",
    "execution": {
     "iopub.execute_input": "2025-04-18T10:22:52.341608Z",
     "iopub.status.busy": "2025-04-18T10:22:52.341068Z",
     "iopub.status.idle": "2025-04-18T10:22:55.243439Z",
     "shell.execute_reply": "2025-04-18T10:22:55.241725Z"
    },
    "papermill": {
     "duration": 2.909816,
     "end_time": "2025-04-18T10:22:55.245478",
     "exception": false,
     "start_time": "2025-04-18T10:22:52.335662",
     "status": "completed"
    },
    "tags": []
   },
   "outputs": [
    {
     "name": "stdout",
     "output_type": "stream",
     "text": [
      "/kaggle/input/insurance/insurance.csv\n"
     ]
    }
   ],
   "source": [
    "# This Python 3 environment comes with many helpful analytics libraries installed\n",
    "# It is defined by the kaggle/python Docker image: https://github.com/kaggle/docker-python\n",
    "# For example, here's several helpful packages to load\n",
    "\n",
    "import numpy as np # linear algebra\n",
    "import pandas as pd # data processing, CSV file I/O (e.g. pd.read_csv)\n",
    "from sklearn.linear_model import LinearRegression\n",
    "from sklearn.ensemble import RandomForestRegressor\n",
    "from sklearn.model_selection import train_test_split\n",
    "\n",
    "\n",
    "# Input data files are available in the read-only \"../input/\" directory\n",
    "# For example, running this (by clicking run or pressing Shift+Enter) will list all files under the input directory\n",
    "\n",
    "import os\n",
    "for dirname, _, filenames in os.walk('/kaggle/input'):\n",
    "    for filename in filenames:\n",
    "        print(os.path.join(dirname, filename))\n",
    "\n",
    "# You can write up to 20GB to the current directory (/kaggle/working/) that gets preserved as output when you create a version using \"Save & Run All\" \n",
    "# You can also write temporary files to /kaggle/temp/, but they won't be saved outside of the current session"
   ]
  },
  {
   "cell_type": "code",
   "execution_count": 2,
   "id": "dd2160c0",
   "metadata": {
    "execution": {
     "iopub.execute_input": "2025-04-18T10:22:55.254158Z",
     "iopub.status.busy": "2025-04-18T10:22:55.253321Z",
     "iopub.status.idle": "2025-04-18T10:22:55.277756Z",
     "shell.execute_reply": "2025-04-18T10:22:55.276559Z"
    },
    "papermill": {
     "duration": 0.031499,
     "end_time": "2025-04-18T10:22:55.280502",
     "exception": false,
     "start_time": "2025-04-18T10:22:55.249003",
     "status": "completed"
    },
    "tags": []
   },
   "outputs": [],
   "source": [
    "df=pd.read_csv(\"/kaggle/input/insurance/insurance.csv\")"
   ]
  },
  {
   "cell_type": "code",
   "execution_count": 3,
   "id": "cfe8a9f1",
   "metadata": {
    "execution": {
     "iopub.execute_input": "2025-04-18T10:22:55.293438Z",
     "iopub.status.busy": "2025-04-18T10:22:55.293096Z",
     "iopub.status.idle": "2025-04-18T10:22:55.323503Z",
     "shell.execute_reply": "2025-04-18T10:22:55.322268Z"
    },
    "papermill": {
     "duration": 0.038832,
     "end_time": "2025-04-18T10:22:55.325228",
     "exception": false,
     "start_time": "2025-04-18T10:22:55.286396",
     "status": "completed"
    },
    "tags": []
   },
   "outputs": [
    {
     "data": {
      "text/html": [
       "<div>\n",
       "<style scoped>\n",
       "    .dataframe tbody tr th:only-of-type {\n",
       "        vertical-align: middle;\n",
       "    }\n",
       "\n",
       "    .dataframe tbody tr th {\n",
       "        vertical-align: top;\n",
       "    }\n",
       "\n",
       "    .dataframe thead th {\n",
       "        text-align: right;\n",
       "    }\n",
       "</style>\n",
       "<table border=\"1\" class=\"dataframe\">\n",
       "  <thead>\n",
       "    <tr style=\"text-align: right;\">\n",
       "      <th></th>\n",
       "      <th>age</th>\n",
       "      <th>sex</th>\n",
       "      <th>bmi</th>\n",
       "      <th>children</th>\n",
       "      <th>smoker</th>\n",
       "      <th>region</th>\n",
       "      <th>charges</th>\n",
       "    </tr>\n",
       "  </thead>\n",
       "  <tbody>\n",
       "    <tr>\n",
       "      <th>0</th>\n",
       "      <td>19</td>\n",
       "      <td>female</td>\n",
       "      <td>27.90</td>\n",
       "      <td>0</td>\n",
       "      <td>yes</td>\n",
       "      <td>southwest</td>\n",
       "      <td>16884.9240</td>\n",
       "    </tr>\n",
       "    <tr>\n",
       "      <th>1</th>\n",
       "      <td>18</td>\n",
       "      <td>male</td>\n",
       "      <td>33.77</td>\n",
       "      <td>1</td>\n",
       "      <td>no</td>\n",
       "      <td>southeast</td>\n",
       "      <td>1725.5523</td>\n",
       "    </tr>\n",
       "    <tr>\n",
       "      <th>2</th>\n",
       "      <td>28</td>\n",
       "      <td>male</td>\n",
       "      <td>33.00</td>\n",
       "      <td>3</td>\n",
       "      <td>no</td>\n",
       "      <td>southeast</td>\n",
       "      <td>4449.4620</td>\n",
       "    </tr>\n",
       "  </tbody>\n",
       "</table>\n",
       "</div>"
      ],
      "text/plain": [
       "   age     sex    bmi  children smoker     region     charges\n",
       "0   19  female  27.90         0    yes  southwest  16884.9240\n",
       "1   18    male  33.77         1     no  southeast   1725.5523\n",
       "2   28    male  33.00         3     no  southeast   4449.4620"
      ]
     },
     "execution_count": 3,
     "metadata": {},
     "output_type": "execute_result"
    }
   ],
   "source": [
    "df.head(3)"
   ]
  },
  {
   "cell_type": "code",
   "execution_count": 4,
   "id": "d73c84ac",
   "metadata": {
    "execution": {
     "iopub.execute_input": "2025-04-18T10:22:55.333343Z",
     "iopub.status.busy": "2025-04-18T10:22:55.333001Z",
     "iopub.status.idle": "2025-04-18T10:22:55.365337Z",
     "shell.execute_reply": "2025-04-18T10:22:55.364035Z"
    },
    "papermill": {
     "duration": 0.038332,
     "end_time": "2025-04-18T10:22:55.367090",
     "exception": false,
     "start_time": "2025-04-18T10:22:55.328758",
     "status": "completed"
    },
    "tags": []
   },
   "outputs": [
    {
     "data": {
      "text/html": [
       "<div>\n",
       "<style scoped>\n",
       "    .dataframe tbody tr th:only-of-type {\n",
       "        vertical-align: middle;\n",
       "    }\n",
       "\n",
       "    .dataframe tbody tr th {\n",
       "        vertical-align: top;\n",
       "    }\n",
       "\n",
       "    .dataframe thead th {\n",
       "        text-align: right;\n",
       "    }\n",
       "</style>\n",
       "<table border=\"1\" class=\"dataframe\">\n",
       "  <thead>\n",
       "    <tr style=\"text-align: right;\">\n",
       "      <th></th>\n",
       "      <th>age</th>\n",
       "      <th>bmi</th>\n",
       "      <th>children</th>\n",
       "      <th>charges</th>\n",
       "      <th>sex_male</th>\n",
       "      <th>smoker_yes</th>\n",
       "      <th>region_northwest</th>\n",
       "      <th>region_southeast</th>\n",
       "      <th>region_southwest</th>\n",
       "    </tr>\n",
       "  </thead>\n",
       "  <tbody>\n",
       "    <tr>\n",
       "      <th>0</th>\n",
       "      <td>19</td>\n",
       "      <td>27.90</td>\n",
       "      <td>0</td>\n",
       "      <td>16884.9240</td>\n",
       "      <td>False</td>\n",
       "      <td>True</td>\n",
       "      <td>False</td>\n",
       "      <td>False</td>\n",
       "      <td>True</td>\n",
       "    </tr>\n",
       "    <tr>\n",
       "      <th>1</th>\n",
       "      <td>18</td>\n",
       "      <td>33.77</td>\n",
       "      <td>1</td>\n",
       "      <td>1725.5523</td>\n",
       "      <td>True</td>\n",
       "      <td>False</td>\n",
       "      <td>False</td>\n",
       "      <td>True</td>\n",
       "      <td>False</td>\n",
       "    </tr>\n",
       "    <tr>\n",
       "      <th>2</th>\n",
       "      <td>28</td>\n",
       "      <td>33.00</td>\n",
       "      <td>3</td>\n",
       "      <td>4449.4620</td>\n",
       "      <td>True</td>\n",
       "      <td>False</td>\n",
       "      <td>False</td>\n",
       "      <td>True</td>\n",
       "      <td>False</td>\n",
       "    </tr>\n",
       "  </tbody>\n",
       "</table>\n",
       "</div>"
      ],
      "text/plain": [
       "   age    bmi  children     charges  sex_male  smoker_yes  region_northwest  \\\n",
       "0   19  27.90         0  16884.9240     False        True             False   \n",
       "1   18  33.77         1   1725.5523      True       False             False   \n",
       "2   28  33.00         3   4449.4620      True       False             False   \n",
       "\n",
       "   region_southeast  region_southwest  \n",
       "0             False              True  \n",
       "1              True             False  \n",
       "2              True             False  "
      ]
     },
     "execution_count": 4,
     "metadata": {},
     "output_type": "execute_result"
    }
   ],
   "source": [
    "df=pd.get_dummies(df,columns=[\"sex\",\"smoker\", \"region\"],drop_first=True)\n",
    "df.head(3)"
   ]
  },
  {
   "cell_type": "code",
   "execution_count": 5,
   "id": "49f06719",
   "metadata": {
    "execution": {
     "iopub.execute_input": "2025-04-18T10:22:55.375335Z",
     "iopub.status.busy": "2025-04-18T10:22:55.375004Z",
     "iopub.status.idle": "2025-04-18T10:22:55.380822Z",
     "shell.execute_reply": "2025-04-18T10:22:55.379602Z"
    },
    "papermill": {
     "duration": 0.01205,
     "end_time": "2025-04-18T10:22:55.382592",
     "exception": false,
     "start_time": "2025-04-18T10:22:55.370542",
     "status": "completed"
    },
    "tags": []
   },
   "outputs": [],
   "source": [
    "y=df[\"charges\"]\n",
    "x=df.drop(columns=[\"charges\"])"
   ]
  },
  {
   "cell_type": "code",
   "execution_count": 6,
   "id": "049eba51",
   "metadata": {
    "execution": {
     "iopub.execute_input": "2025-04-18T10:22:55.390476Z",
     "iopub.status.busy": "2025-04-18T10:22:55.390160Z",
     "iopub.status.idle": "2025-04-18T10:22:55.398808Z",
     "shell.execute_reply": "2025-04-18T10:22:55.397533Z"
    },
    "papermill": {
     "duration": 0.014865,
     "end_time": "2025-04-18T10:22:55.400895",
     "exception": false,
     "start_time": "2025-04-18T10:22:55.386030",
     "status": "completed"
    },
    "tags": []
   },
   "outputs": [],
   "source": [
    "x_train,x_test,y_train,y_test=train_test_split(x,y,random_state=24,train_size=0.80)"
   ]
  },
  {
   "cell_type": "code",
   "execution_count": 7,
   "id": "8c33a90a",
   "metadata": {
    "execution": {
     "iopub.execute_input": "2025-04-18T10:22:55.409224Z",
     "iopub.status.busy": "2025-04-18T10:22:55.408828Z",
     "iopub.status.idle": "2025-04-18T10:22:55.472086Z",
     "shell.execute_reply": "2025-04-18T10:22:55.470837Z"
    },
    "papermill": {
     "duration": 0.069417,
     "end_time": "2025-04-18T10:22:55.473860",
     "exception": false,
     "start_time": "2025-04-18T10:22:55.404443",
     "status": "completed"
    },
    "tags": []
   },
   "outputs": [
    {
     "data": {
      "text/plain": [
       "0.7765075980622729"
      ]
     },
     "execution_count": 7,
     "metadata": {},
     "output_type": "execute_result"
    }
   ],
   "source": [
    "lr=LinearRegression()\n",
    "model=lr.fit(x_train,y_train)\n",
    "model.score(x_test,y_test)"
   ]
  },
  {
   "cell_type": "code",
   "execution_count": 8,
   "id": "6f396a41",
   "metadata": {
    "execution": {
     "iopub.execute_input": "2025-04-18T10:22:55.481853Z",
     "iopub.status.busy": "2025-04-18T10:22:55.481445Z",
     "iopub.status.idle": "2025-04-18T10:22:56.246594Z",
     "shell.execute_reply": "2025-04-18T10:22:56.245449Z"
    },
    "papermill": {
     "duration": 0.771264,
     "end_time": "2025-04-18T10:22:56.248530",
     "exception": false,
     "start_time": "2025-04-18T10:22:55.477266",
     "status": "completed"
    },
    "tags": []
   },
   "outputs": [
    {
     "data": {
      "text/plain": [
       "0.8647247631118414"
      ]
     },
     "execution_count": 8,
     "metadata": {},
     "output_type": "execute_result"
    }
   ],
   "source": [
    "rf=RandomForestRegressor(n_estimators=200)\n",
    "model=rf.fit(x_train,y_train)\n",
    "model.score(x_test,y_test)"
   ]
  },
  {
   "cell_type": "code",
   "execution_count": 9,
   "id": "bef3d32f",
   "metadata": {
    "execution": {
     "iopub.execute_input": "2025-04-18T10:22:56.257026Z",
     "iopub.status.busy": "2025-04-18T10:22:56.256630Z",
     "iopub.status.idle": "2025-04-18T10:22:56.263373Z",
     "shell.execute_reply": "2025-04-18T10:22:56.261891Z"
    },
    "papermill": {
     "duration": 0.013382,
     "end_time": "2025-04-18T10:22:56.265452",
     "exception": false,
     "start_time": "2025-04-18T10:22:56.252070",
     "status": "completed"
    },
    "tags": []
   },
   "outputs": [],
   "source": [
    "human=df.sample().drop(columns=[\"charges\"]).values"
   ]
  },
  {
   "cell_type": "code",
   "execution_count": 10,
   "id": "f4dd6f57",
   "metadata": {
    "execution": {
     "iopub.execute_input": "2025-04-18T10:22:56.274116Z",
     "iopub.status.busy": "2025-04-18T10:22:56.273747Z",
     "iopub.status.idle": "2025-04-18T10:22:56.292149Z",
     "shell.execute_reply": "2025-04-18T10:22:56.290832Z"
    },
    "papermill": {
     "duration": 0.024759,
     "end_time": "2025-04-18T10:22:56.293971",
     "exception": false,
     "start_time": "2025-04-18T10:22:56.269212",
     "status": "completed"
    },
    "tags": []
   },
   "outputs": [
    {
     "name": "stderr",
     "output_type": "stream",
     "text": [
      "/usr/local/lib/python3.10/dist-packages/sklearn/base.py:439: UserWarning: X does not have valid feature names, but RandomForestRegressor was fitted with feature names\n",
      "  warnings.warn(\n"
     ]
    },
    {
     "data": {
      "text/plain": [
       "array([5322.6152524])"
      ]
     },
     "execution_count": 10,
     "metadata": {},
     "output_type": "execute_result"
    }
   ],
   "source": [
    "model.predict(human)"
   ]
  }
 ],
 "metadata": {
  "kaggle": {
   "accelerator": "none",
   "dataSources": [
    {
     "datasetId": 13720,
     "sourceId": 18513,
     "sourceType": "datasetVersion"
    }
   ],
   "dockerImageVersionId": 30918,
   "isGpuEnabled": false,
   "isInternetEnabled": false,
   "language": "python",
   "sourceType": "notebook"
  },
  "kernelspec": {
   "display_name": "Python 3",
   "language": "python",
   "name": "python3"
  },
  "language_info": {
   "codemirror_mode": {
    "name": "ipython",
    "version": 3
   },
   "file_extension": ".py",
   "mimetype": "text/x-python",
   "name": "python",
   "nbconvert_exporter": "python",
   "pygments_lexer": "ipython3",
   "version": "3.10.12"
  },
  "papermill": {
   "default_parameters": {},
   "duration": 8.416612,
   "end_time": "2025-04-18T10:22:57.221764",
   "environment_variables": {},
   "exception": null,
   "input_path": "__notebook__.ipynb",
   "output_path": "__notebook__.ipynb",
   "parameters": {},
   "start_time": "2025-04-18T10:22:48.805152",
   "version": "2.6.0"
  }
 },
 "nbformat": 4,
 "nbformat_minor": 5
}
